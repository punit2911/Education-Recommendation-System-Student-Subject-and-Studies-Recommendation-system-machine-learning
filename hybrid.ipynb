{
 "cells": [
  {
   "cell_type": "code",
   "execution_count": 5,
   "metadata": {},
   "outputs": [],
   "source": [
    "import pandas as pd\n",
    "import numpy as np\n",
    "from sklearn.preprocessing import StandardScaler\n",
    "from sklearn.ensemble import RandomForestClassifier\n",
    "from sklearn.model_selection import train_test_split\n",
    "from sklearn.metrics import accuracy_score, classification_report, confusion_matrix\n",
    "import pickle\n",
    "from sklearn.metrics.pairwise import cosine_similarity\n",
    "from sklearn.feature_extraction.text import TfidfVectorizer\n",
    "from imblearn.over_sampling import SMOTE"
   ]
  },
  {
   "cell_type": "code",
   "execution_count": 2,
   "metadata": {},
   "outputs": [
    {
     "name": "stdout",
     "output_type": "stream",
     "text": [
      "Requirement already satisfied: scikit-learn in d:\\anaconda\\lib\\site-packages (1.3.2)\n",
      "Collecting scikit-learn\n",
      "  Obtaining dependency information for scikit-learn from https://files.pythonhosted.org/packages/96/a2/cbfb5743de748d574ffdfd557e9cb29ba4f8b8a3e07836c6c176f713de2f/scikit_learn-1.6.0-cp311-cp311-win_amd64.whl.metadata\n",
      "  Downloading scikit_learn-1.6.0-cp311-cp311-win_amd64.whl.metadata (15 kB)\n",
      "Requirement already satisfied: imbalanced-learn in d:\\anaconda\\lib\\site-packages (0.7.0)\n",
      "Collecting imbalanced-learn\n",
      "  Obtaining dependency information for imbalanced-learn from https://files.pythonhosted.org/packages/d8/0d/c3bfccc5d460eec8ff56889802aa88f5d07280d5282b307a74558e6edc44/imbalanced_learn-0.12.4-py3-none-any.whl.metadata\n",
      "  Downloading imbalanced_learn-0.12.4-py3-none-any.whl.metadata (8.3 kB)\n",
      "Requirement already satisfied: numpy>=1.19.5 in d:\\anaconda\\lib\\site-packages (from scikit-learn) (1.26.3)\n",
      "Requirement already satisfied: scipy>=1.6.0 in d:\\anaconda\\lib\\site-packages (from scikit-learn) (1.11.4)\n",
      "Requirement already satisfied: joblib>=1.2.0 in d:\\anaconda\\lib\\site-packages (from scikit-learn) (1.2.0)\n",
      "Collecting threadpoolctl>=3.1.0 (from scikit-learn)\n",
      "  Obtaining dependency information for threadpoolctl>=3.1.0 from https://files.pythonhosted.org/packages/4b/2c/ffbf7a134b9ab11a67b0cf0726453cedd9c5043a4fe7a35d1cefa9a1bcfb/threadpoolctl-3.5.0-py3-none-any.whl.metadata\n",
      "  Using cached threadpoolctl-3.5.0-py3-none-any.whl.metadata (13 kB)\n",
      "Downloading scikit_learn-1.6.0-cp311-cp311-win_amd64.whl (11.1 MB)\n",
      "   ---------------------------------------- 0.0/11.1 MB ? eta -:--:--\n",
      "    --------------------------------------- 0.1/11.1 MB 4.3 MB/s eta 0:00:03\n",
      "    --------------------------------------- 0.2/11.1 MB 3.8 MB/s eta 0:00:03\n",
      "   - -------------------------------------- 0.5/11.1 MB 4.2 MB/s eta 0:00:03\n",
      "   -- ------------------------------------- 0.7/11.1 MB 5.3 MB/s eta 0:00:02\n",
      "   --- ------------------------------------ 1.1/11.1 MB 5.6 MB/s eta 0:00:02\n",
      "   ----- ---------------------------------- 1.5/11.1 MB 6.6 MB/s eta 0:00:02\n",
      "   ------ --------------------------------- 1.9/11.1 MB 7.0 MB/s eta 0:00:02\n",
      "   ------- -------------------------------- 2.2/11.1 MB 7.4 MB/s eta 0:00:02\n",
      "   -------- ------------------------------- 2.5/11.1 MB 7.5 MB/s eta 0:00:02\n",
      "   --------- ------------------------------ 2.7/11.1 MB 7.1 MB/s eta 0:00:02\n",
      "   ---------- ----------------------------- 2.9/11.1 MB 7.2 MB/s eta 0:00:02\n",
      "   ----------- ---------------------------- 3.1/11.1 MB 6.8 MB/s eta 0:00:02\n",
      "   ----------- ---------------------------- 3.3/11.1 MB 6.7 MB/s eta 0:00:02\n",
      "   ------------ --------------------------- 3.5/11.1 MB 6.6 MB/s eta 0:00:02\n",
      "   ------------- -------------------------- 3.7/11.1 MB 6.6 MB/s eta 0:00:02\n",
      "   -------------- ------------------------- 4.0/11.1 MB 6.5 MB/s eta 0:00:02\n",
      "   --------------- ------------------------ 4.2/11.1 MB 6.6 MB/s eta 0:00:02\n",
      "   ---------------- ----------------------- 4.5/11.1 MB 6.7 MB/s eta 0:00:01\n",
      "   ----------------- ---------------------- 4.8/11.1 MB 6.6 MB/s eta 0:00:01\n",
      "   ------------------ --------------------- 5.0/11.1 MB 6.7 MB/s eta 0:00:01\n",
      "   ------------------ --------------------- 5.2/11.1 MB 6.5 MB/s eta 0:00:01\n",
      "   ------------------- -------------------- 5.3/11.1 MB 6.4 MB/s eta 0:00:01\n",
      "   ------------------- -------------------- 5.5/11.1 MB 6.3 MB/s eta 0:00:01\n",
      "   -------------------- ------------------- 5.6/11.1 MB 6.2 MB/s eta 0:00:01\n",
      "   --------------------- ------------------ 5.9/11.1 MB 6.2 MB/s eta 0:00:01\n",
      "   ---------------------- ----------------- 6.2/11.1 MB 6.2 MB/s eta 0:00:01\n",
      "   ----------------------- ---------------- 6.6/11.1 MB 6.3 MB/s eta 0:00:01\n",
      "   ------------------------ --------------- 6.9/11.1 MB 6.4 MB/s eta 0:00:01\n",
      "   -------------------------- ------------- 7.2/11.1 MB 6.4 MB/s eta 0:00:01\n",
      "   --------------------------- ------------ 7.6/11.1 MB 6.5 MB/s eta 0:00:01\n",
      "   ---------------------------- ----------- 7.9/11.1 MB 6.5 MB/s eta 0:00:01\n",
      "   ----------------------------- ---------- 8.2/11.1 MB 6.5 MB/s eta 0:00:01\n",
      "   ------------------------------ --------- 8.4/11.1 MB 6.4 MB/s eta 0:00:01\n",
      "   ------------------------------ --------- 8.6/11.1 MB 6.5 MB/s eta 0:00:01\n",
      "   ------------------------------- -------- 8.9/11.1 MB 6.5 MB/s eta 0:00:01\n",
      "   -------------------------------- ------- 9.1/11.1 MB 6.5 MB/s eta 0:00:01\n",
      "   --------------------------------- ------ 9.4/11.1 MB 6.5 MB/s eta 0:00:01\n",
      "   ---------------------------------- ----- 9.6/11.1 MB 6.4 MB/s eta 0:00:01\n",
      "   ----------------------------------- ---- 9.8/11.1 MB 6.4 MB/s eta 0:00:01\n",
      "   ----------------------------------- ---- 10.0/11.1 MB 6.4 MB/s eta 0:00:01\n",
      "   ------------------------------------ --- 10.2/11.1 MB 6.3 MB/s eta 0:00:01\n",
      "   ------------------------------------- -- 10.5/11.1 MB 6.4 MB/s eta 0:00:01\n",
      "   -------------------------------------- - 10.7/11.1 MB 6.5 MB/s eta 0:00:01\n",
      "   ---------------------------------------  11.1/11.1 MB 6.4 MB/s eta 0:00:01\n",
      "   ---------------------------------------- 11.1/11.1 MB 6.4 MB/s eta 0:00:00\n",
      "Downloading imbalanced_learn-0.12.4-py3-none-any.whl (258 kB)\n",
      "   ---------------------------------------- 0.0/258.3 kB ? eta -:--:--\n",
      "   ----------------------------- --------- 194.6/258.3 kB 12.3 MB/s eta 0:00:01\n",
      "   ---------------------------------------- 258.3/258.3 kB 5.4 MB/s eta 0:00:00\n",
      "Using cached threadpoolctl-3.5.0-py3-none-any.whl (18 kB)\n",
      "Installing collected packages: threadpoolctl, scikit-learn, imbalanced-learn\n",
      "  Attempting uninstall: threadpoolctl\n",
      "    Found existing installation: threadpoolctl 2.2.0\n",
      "    Uninstalling threadpoolctl-2.2.0:\n",
      "      Successfully uninstalled threadpoolctl-2.2.0\n",
      "  Attempting uninstall: scikit-learn\n",
      "    Found existing installation: scikit-learn 1.3.2\n",
      "    Uninstalling scikit-learn-1.3.2:\n",
      "Note: you may need to restart the kernel to use updated packages.\n"
     ]
    },
    {
     "name": "stderr",
     "output_type": "stream",
     "text": [
      "ERROR: Could not install packages due to an OSError: [WinError 5] Access is denied: 'd:\\\\anaconda\\\\lib\\\\site-packages\\\\sklearn\\\\__check_build\\\\_check_build.cp311-win_amd64.pyd'\n",
      "Consider using the `--user` option or check the permissions.\n",
      "\n"
     ]
    }
   ],
   "source": [
    "pip install -U scikit-learn imbalanced-learn\n"
   ]
  },
  {
   "cell_type": "code",
   "execution_count": 3,
   "metadata": {},
   "outputs": [
    {
     "name": "stdout",
     "output_type": "stream",
     "text": [
      "1.3.2\n"
     ]
    }
   ],
   "source": [
    "import sklearn\n",
    "print(sklearn.__version__)\n"
   ]
  },
  {
   "cell_type": "code",
   "execution_count": 6,
   "metadata": {},
   "outputs": [],
   "source": [
    "# Load dataset\n",
    "df1 = pd.read_csv(\"student-scores.csv\")\n",
    "df = df1.copy()"
   ]
  },
  {
   "cell_type": "code",
   "execution_count": 7,
   "metadata": {},
   "outputs": [],
   "source": [
    "# Feature engineering\n",
    "df.drop(columns=['id', 'first_name', 'last_name', 'email'], axis=1, inplace=True)\n",
    "df[\"total_score\"] = df[\"math_score\"] + df[\"history_score\"] + df[\"physics_score\"] + df[\"chemistry_score\"] + df[\"biology_score\"] + df[\"english_score\"] + df[\"geography_score\"]\n",
    "df[\"average_score\"] = df[\"total_score\"] / 7"
   ]
  },
  {
   "cell_type": "code",
   "execution_count": 8,
   "metadata": {},
   "outputs": [],
   "source": [
    "# Define mapping dictionaries for categorical features\n",
    "gender_map = {'male': 0, 'female': 1}\n",
    "part_time_job_map = {False: 0, True: 1}\n",
    "extracurricular_activities_map = {False: 0, True: 1}\n",
    "career_aspiration_map = {\n",
    "    'Lawyer': 0, 'Doctor': 1, 'Government Officer': 2, 'Artist': 3, 'Unknown': 4,\n",
    "    'Software Engineer': 5, 'Teacher': 6, 'Business Owner': 7, 'Scientist': 8,\n",
    "    'Banker': 9, 'Writer': 10, 'Accountant': 11, 'Designer': 12,\n",
    "    'Construction Engineer': 13, 'Game Developer': 14, 'Stock Investor': 15,\n",
    "    'Real Estate Developer': 16\n",
    "}"
   ]
  },
  {
   "cell_type": "code",
   "execution_count": 9,
   "metadata": {},
   "outputs": [],
   "source": [
    "# Apply mapping\n",
    "df['gender'] = df['gender'].map(gender_map)\n",
    "df['part_time_job'] = df['part_time_job'].map(part_time_job_map)\n",
    "df['extracurricular_activities'] = df['extracurricular_activities'].map(extracurricular_activities_map)\n",
    "df['career_aspiration'] = df['career_aspiration'].map(career_aspiration_map)"
   ]
  },
  {
   "cell_type": "code",
   "execution_count": 10,
   "metadata": {},
   "outputs": [],
   "source": [
    "# Handling class imbalance using SMOTE\n",
    "X = df.drop('career_aspiration', axis=1)\n",
    "y = df['career_aspiration']\n",
    "smote = SMOTE(random_state=42)\n",
    "X_resampled, y_resampled = smote.fit_resample(X, y)"
   ]
  },
  {
   "cell_type": "code",
   "execution_count": 11,
   "metadata": {},
   "outputs": [],
   "source": [
    "# Split the dataset into training and testing sets\n",
    "X_train, X_test, y_train, y_test = train_test_split(X_resampled, y_resampled, test_size=0.2, random_state=42)\n"
   ]
  },
  {
   "cell_type": "code",
   "execution_count": 12,
   "metadata": {},
   "outputs": [],
   "source": [
    "# Standardize the features\n",
    "scaler = StandardScaler()\n",
    "X_train_scaled = scaler.fit_transform(X_train)\n",
    "X_test_scaled = scaler.transform(X_test)\n"
   ]
  },
  {
   "cell_type": "code",
   "execution_count": 13,
   "metadata": {},
   "outputs": [
    {
     "data": {
      "text/html": [
       "<style>#sk-container-id-1 {color: black;}#sk-container-id-1 pre{padding: 0;}#sk-container-id-1 div.sk-toggleable {background-color: white;}#sk-container-id-1 label.sk-toggleable__label {cursor: pointer;display: block;width: 100%;margin-bottom: 0;padding: 0.3em;box-sizing: border-box;text-align: center;}#sk-container-id-1 label.sk-toggleable__label-arrow:before {content: \"▸\";float: left;margin-right: 0.25em;color: #696969;}#sk-container-id-1 label.sk-toggleable__label-arrow:hover:before {color: black;}#sk-container-id-1 div.sk-estimator:hover label.sk-toggleable__label-arrow:before {color: black;}#sk-container-id-1 div.sk-toggleable__content {max-height: 0;max-width: 0;overflow: hidden;text-align: left;background-color: #f0f8ff;}#sk-container-id-1 div.sk-toggleable__content pre {margin: 0.2em;color: black;border-radius: 0.25em;background-color: #f0f8ff;}#sk-container-id-1 input.sk-toggleable__control:checked~div.sk-toggleable__content {max-height: 200px;max-width: 100%;overflow: auto;}#sk-container-id-1 input.sk-toggleable__control:checked~label.sk-toggleable__label-arrow:before {content: \"▾\";}#sk-container-id-1 div.sk-estimator input.sk-toggleable__control:checked~label.sk-toggleable__label {background-color: #d4ebff;}#sk-container-id-1 div.sk-label input.sk-toggleable__control:checked~label.sk-toggleable__label {background-color: #d4ebff;}#sk-container-id-1 input.sk-hidden--visually {border: 0;clip: rect(1px 1px 1px 1px);clip: rect(1px, 1px, 1px, 1px);height: 1px;margin: -1px;overflow: hidden;padding: 0;position: absolute;width: 1px;}#sk-container-id-1 div.sk-estimator {font-family: monospace;background-color: #f0f8ff;border: 1px dotted black;border-radius: 0.25em;box-sizing: border-box;margin-bottom: 0.5em;}#sk-container-id-1 div.sk-estimator:hover {background-color: #d4ebff;}#sk-container-id-1 div.sk-parallel-item::after {content: \"\";width: 100%;border-bottom: 1px solid gray;flex-grow: 1;}#sk-container-id-1 div.sk-label:hover label.sk-toggleable__label {background-color: #d4ebff;}#sk-container-id-1 div.sk-serial::before {content: \"\";position: absolute;border-left: 1px solid gray;box-sizing: border-box;top: 0;bottom: 0;left: 50%;z-index: 0;}#sk-container-id-1 div.sk-serial {display: flex;flex-direction: column;align-items: center;background-color: white;padding-right: 0.2em;padding-left: 0.2em;position: relative;}#sk-container-id-1 div.sk-item {position: relative;z-index: 1;}#sk-container-id-1 div.sk-parallel {display: flex;align-items: stretch;justify-content: center;background-color: white;position: relative;}#sk-container-id-1 div.sk-item::before, #sk-container-id-1 div.sk-parallel-item::before {content: \"\";position: absolute;border-left: 1px solid gray;box-sizing: border-box;top: 0;bottom: 0;left: 50%;z-index: -1;}#sk-container-id-1 div.sk-parallel-item {display: flex;flex-direction: column;z-index: 1;position: relative;background-color: white;}#sk-container-id-1 div.sk-parallel-item:first-child::after {align-self: flex-end;width: 50%;}#sk-container-id-1 div.sk-parallel-item:last-child::after {align-self: flex-start;width: 50%;}#sk-container-id-1 div.sk-parallel-item:only-child::after {width: 0;}#sk-container-id-1 div.sk-dashed-wrapped {border: 1px dashed gray;margin: 0 0.4em 0.5em 0.4em;box-sizing: border-box;padding-bottom: 0.4em;background-color: white;}#sk-container-id-1 div.sk-label label {font-family: monospace;font-weight: bold;display: inline-block;line-height: 1.2em;}#sk-container-id-1 div.sk-label-container {text-align: center;}#sk-container-id-1 div.sk-container {/* jupyter's `normalize.less` sets `[hidden] { display: none; }` but bootstrap.min.css set `[hidden] { display: none !important; }` so we also need the `!important` here to be able to override the default hidden behavior on the sphinx rendered scikit-learn.org. See: https://github.com/scikit-learn/scikit-learn/issues/21755 */display: inline-block !important;position: relative;}#sk-container-id-1 div.sk-text-repr-fallback {display: none;}</style><div id=\"sk-container-id-1\" class=\"sk-top-container\"><div class=\"sk-text-repr-fallback\"><pre>RandomForestClassifier(random_state=42)</pre><b>In a Jupyter environment, please rerun this cell to show the HTML representation or trust the notebook. <br />On GitHub, the HTML representation is unable to render, please try loading this page with nbviewer.org.</b></div><div class=\"sk-container\" hidden><div class=\"sk-item\"><div class=\"sk-estimator sk-toggleable\"><input class=\"sk-toggleable__control sk-hidden--visually\" id=\"sk-estimator-id-1\" type=\"checkbox\" checked><label for=\"sk-estimator-id-1\" class=\"sk-toggleable__label sk-toggleable__label-arrow\">RandomForestClassifier</label><div class=\"sk-toggleable__content\"><pre>RandomForestClassifier(random_state=42)</pre></div></div></div></div></div>"
      ],
      "text/plain": [
       "RandomForestClassifier(random_state=42)"
      ]
     },
     "execution_count": 13,
     "metadata": {},
     "output_type": "execute_result"
    }
   ],
   "source": [
    "# Train the model\n",
    "model = RandomForestClassifier(random_state=42)\n",
    "model.fit(X_train_scaled, y_train)"
   ]
  },
  {
   "cell_type": "code",
   "execution_count": 14,
   "metadata": {},
   "outputs": [
    {
     "name": "stdout",
     "output_type": "stream",
     "text": [
      "Model, scaler, and metadata saved successfully.\n"
     ]
    }
   ],
   "source": [
    "# Save the model, scaler, and metadata (class names)\n",
    "metadata = {\n",
    "    'class_names': ['Lawyer', 'Doctor', 'Government Officer', 'Artist', 'Unknown',\n",
    "                    'Software Engineer', 'Teacher', 'Business Owner', 'Scientist',\n",
    "                    'Banker', 'Writer', 'Accountant', 'Designer',\n",
    "                    'Construction Engineer', 'Game Developer', 'Stock Investor',\n",
    "                    'Real Estate Developer']\n",
    "}\n",
    "\n",
    "pickle.dump(scaler, open(\"Models/scaler.pkl\", 'wb'))\n",
    "pickle.dump(model, open(\"Models/model.pkl\", 'wb'))\n",
    "pickle.dump(metadata, open(\"Models/metadata.pkl\", 'wb'))\n",
    "\n",
    "print(\"Model, scaler, and metadata saved successfully.\")"
   ]
  },
  {
   "cell_type": "code",
   "execution_count": 15,
   "metadata": {},
   "outputs": [],
   "source": [
    "# Hybrid Recommendation System\n",
    "def hybrid_recommendations(features, content_based_data):\n",
    "    scaler = pickle.load(open(\"Models/scaler.pkl\", 'rb'))\n",
    "    model = pickle.load(open(\"Models/model.pkl\", 'rb'))\n",
    "    metadata = pickle.load(open(\"Models/metadata.pkl\", 'rb'))\n",
    "    \n",
    "    class_names = metadata['class_names']\n",
    "    \n",
    "    # Encode categorical variables\n",
    "    gender_encoded = 1 if features[0].lower() == 'female' else 0\n",
    "    part_time_job_encoded = 1 if features[1] else 0\n",
    "    extracurricular_activities_encoded = 1 if features[2] else 0\n",
    "    \n",
    "    feature_array = np.array([[gender_encoded, part_time_job_encoded, features[3], extracurricular_activities_encoded,\n",
    "                               features[4], features[5], features[6], features[7],\n",
    "                               features[8], features[9], features[10], features[11], features[12], features[13], features[14]]])\n",
    "    \n",
    "    scaled_features = scaler.transform(feature_array)\n",
    "    \n",
    "    # Collaborative filtering using Random Forest for similarity-based recommendation\n",
    "    probs = model.predict_proba(scaled_features)\n",
    "    top_classes_idx = np.argsort(-probs[0])[:5]\n",
    "    top_classes_names_probs = [(class_names[idx], probs[0][idx]) for idx in top_classes_idx]\n",
    "    \n",
    "    # Content-based filtering: Get recommendations based on career aspirations and content similarity\n",
    "    user_career = metadata['class_names'][features[14]]\n",
    "    content_recommendations = content_based_data[user_career].sort_values(ascending=False).head(5)\n",
    "    \n",
    "    hybrid_recommendations = []\n",
    "    for i, (class_name, prob) in enumerate(top_classes_names_probs):\n",
    "        hybrid_recommendations.append((class_name, prob))\n",
    "    \n",
    "    # Add content-based recommendations and ensure no duplication\n",
    "    for class_name, prob in content_recommendations.items():\n",
    "        if class_name not in [x[0] for x in hybrid_recommendations]:\n",
    "            hybrid_recommendations.append((class_name, prob))\n",
    "    \n",
    "    return hybrid_recommendations"
   ]
  },
  {
   "cell_type": "code",
   "execution_count": 19,
   "metadata": {},
   "outputs": [
    {
     "name": "stderr",
     "output_type": "stream",
     "text": [
      "d:\\ANACONDA\\Lib\\site-packages\\sklearn\\base.py:465: UserWarning: X does not have valid feature names, but StandardScaler was fitted with feature names\n",
      "  warnings.warn(\n"
     ]
    }
   ],
   "source": [
    "features = ['female', False, 2, 7, 65, 60, 97, 94, 71, 81, 66, 534, 76.29, 0, 0]\n",
    "\n",
    "# Ensure all necessary features are present\n",
    "if len(features) < 15:\n",
    "    raise ValueError(\"Not enough features provided. Expected 15 features.\")\n",
    "\n",
    "# Example feature extraction and preprocessing\n",
    "gender_encoded = 1 if features[0] == 'female' else 0  # Convert 'female' to 1, 'male' to 0\n",
    "part_time_job_encoded = 1 if features[1] else 0  # Convert Boolean to 1 or 0\n",
    "extracurricular_activities_encoded = 1 if features[2] else 0  # Convert Boolean to 1 or 0\n",
    "\n",
    "# Extract features that are needed\n",
    "feature_array = np.array([[gender_encoded, part_time_job_encoded, features[3], extracurricular_activities_encoded,\n",
    "                           features[4], features[5], features[6], features[7],\n",
    "                           features[8], features[9], features[10], features[11], features[12], features[13]]])  # Only 14 features\n",
    "\n",
    "# Scale the features using StandardScaler\n",
    "scaled_features = scaler.transform(feature_array)\n",
    "\n",
    "\n"
   ]
  },
  {
   "cell_type": "code",
   "execution_count": 31,
   "metadata": {},
   "outputs": [
    {
     "name": "stdout",
     "output_type": "stream",
     "text": [
      "Features: ['female', False, 2, 7, 65, 60, 97, 94, 71, 81, 66, 534, 76.29]\n"
     ]
    }
   ],
   "source": [
    "print(f\"Features: {features}\")\n"
   ]
  },
  {
   "cell_type": "code",
   "execution_count": 39,
   "metadata": {},
   "outputs": [
    {
     "name": "stdout",
     "output_type": "stream",
     "text": [
      "Feature array: [[  1.     0.     2.     1.     7.    65.    60.    97.    94.    71.\n",
      "   81.    66.   534.    76.29]]\n"
     ]
    }
   ],
   "source": [
    "# Features list\n",
    "features = ['female', False, 2, 7, 65, 60, 97, 94, 71, 81, 66, 534, 76.29]\n",
    "\n",
    "# Feature extraction\n",
    "feature_array = np.array([\n",
    "    gender_encoded, part_time_job_encoded, features[2], extracurricular_activities_encoded,\n",
    "    features[3], features[4], features[5], features[6],\n",
    "    features[7], features[8], features[9], features[10], features[11], features[12]\n",
    "]).reshape(1, -1)\n",
    "\n",
    "print(\"Feature array:\", feature_array)\n",
    "\n"
   ]
  },
  {
   "cell_type": "code",
   "execution_count": 36,
   "metadata": {},
   "outputs": [
    {
     "name": "stdout",
     "output_type": "stream",
     "text": [
      "Features List: ['female', False, 2, 7, 65, 60, 97, 94, 71, 81, 66, 534, 76.29]\n"
     ]
    }
   ],
   "source": [
    "print(\"Features List:\", features)\n"
   ]
  },
  {
   "cell_type": "code",
   "execution_count": null,
   "metadata": {},
   "outputs": [],
   "source": []
  }
 ],
 "metadata": {
  "kernelspec": {
   "display_name": "base",
   "language": "python",
   "name": "python3"
  },
  "language_info": {
   "codemirror_mode": {
    "name": "ipython",
    "version": 3
   },
   "file_extension": ".py",
   "mimetype": "text/x-python",
   "name": "python",
   "nbconvert_exporter": "python",
   "pygments_lexer": "ipython3",
   "version": "3.11.5"
  }
 },
 "nbformat": 4,
 "nbformat_minor": 2
}
